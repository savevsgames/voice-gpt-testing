{
 "cells": [
  {
   "cell_type": "code",
   "id": "99a933e2-949a-4ba9-89c5-b12455f464b9",
   "metadata": {
    "jupyter": {
     "is_executing": true
    }
   },
   "source": [
    "import sounddevice as sd\n",
    "import numpy as np\n",
    "import wave\n",
    "\n",
    "# List available audio devices\n",
    "devices = sd.query_devices()\n",
    "input_devices = [d for i, d in enumerate(devices) if d[\"max_input_channels\"] > 0]\n",
    "\n",
    "# Print available input devices\n",
    "print(\"\\nAvailable Input Devices:\")\n",
    "for i, device in enumerate(input_devices):\n",
    "    print(f\"{i}: {device['name']} (Max Channels: {device['max_input_channels']})\")\n",
    "\n",
    "# Prompt user for device selection\n",
    "device_index = int(input(\"\\nEnter the number of the device you want to use: \"))\n",
    "selected_device = input_devices[device_index]\n",
    "\n",
    "# Set the selected device\n",
    "sd.default.device = selected_device[\"index\"]\n",
    "channels = min(selected_device[\"max_input_channels\"], 2)  # Use max available channels, up to 2\n",
    "\n",
    "print(f\"\\nUsing device: {selected_device['name']} with {channels} channels.\\n\")\n",
    "\n",
    "# Recording parameters\n",
    "duration = 10  # seconds\n",
    "sample_rate = 44100\n",
    "\n",
    "print(\"Recording...\")\n",
    "audio_data = sd.rec(int(sample_rate * duration), samplerate=sample_rate, channels=channels, dtype=np.int16)\n",
    "sd.wait()\n",
    "print(\"Recording complete.\")\n",
    "\n",
    "# Save to a WAV file\n",
    "filename = \"user_recording.wav\"\n",
    "with wave.open(filename, 'wb') as wf:\n",
    "    wf.setnchannels(channels)\n",
    "    wf.setsampwidth(2)\n",
    "    wf.setframerate(sample_rate)\n",
    "    wf.writeframes(audio_data.tobytes())\n",
    "\n",
    "print(f\"Saved recording as {filename}\")\n"
   ],
   "outputs": [],
   "execution_count": null
  },
  {
   "metadata": {},
   "cell_type": "markdown",
   "source": "Transcribe Audio to Text\n",
   "id": "f0e428e39977d8fe"
  },
  {
   "metadata": {},
   "cell_type": "code",
   "outputs": [],
   "execution_count": null,
   "source": [
    "import openai\n",
    "\n",
    "# Set OpenAI API Key\n",
    "openai.api_key = \"your-openai-api-key\"\n",
    "\n",
    "def transcribe_audio(audio_path):\n",
    "    with open(audio_path, \"rb\") as audio_file:\n",
    "        transcript = openai.Audio.transcribe(\"whisper-1\", audio_file)\n",
    "    return transcript['text']\n",
    "\n",
    "transcribed_text = transcribe_audio(\"test_recording.wav\")\n",
    "print(\"Transcribed Text:\", transcribed_text)"
   ],
   "id": "dcc895c9b5cb1c92"
  }
 ],
 "metadata": {
  "kernelspec": {
   "display_name": "Python 3 (ipykernel)",
   "language": "python",
   "name": "python3"
  },
  "language_info": {
   "codemirror_mode": {
    "name": "ipython",
    "version": 3
   },
   "file_extension": ".py",
   "mimetype": "text/x-python",
   "name": "python",
   "nbconvert_exporter": "python",
   "pygments_lexer": "ipython3",
   "version": "3.12.4"
  }
 },
 "nbformat": 4,
 "nbformat_minor": 5
}
